{
 "cells": [
  {
   "cell_type": "markdown",
   "metadata": {},
   "source": [
    "# 우편번호 인식기\n",
    "- 사용자가 마우스로 우편번호 숫자를 작성하면, 신경망 모델이 이를 인식하여 숫자를 예측"
   ]
  },
  {
   "cell_type": "markdown",
   "metadata": {},
   "source": [
    "## 라이브러리 불러오기"
   ]
  },
  {
   "cell_type": "code",
   "execution_count": 1,
   "metadata": {},
   "outputs": [],
   "source": [
    "import numpy as np\n",
    "import tensorflow as tf\n",
    "import cv2 as cv\n",
    "import matplotlib.pyplot as plt\n",
    "# import winsound"
   ]
  },
  {
   "cell_type": "markdown",
   "metadata": {},
   "source": [
    "# 저장한 모델 불러오기\n",
    "\n",
    "- `7-5.ipynb` 실습을 통해 저장한 모델 불러오기\n",
    "- MNIST 데이터셋으로 학습된 손글씨 숫자 인식 모델"
   ]
  },
  {
   "cell_type": "code",
   "execution_count": 2,
   "metadata": {},
   "outputs": [
    {
     "name": "stderr",
     "output_type": "stream",
     "text": [
      "WARNING:absl:Compiled the loaded model, but the compiled metrics have yet to be built. `model.compile_metrics` will be empty until you train or evaluate the model.\n"
     ]
    }
   ],
   "source": [
    "model = tf.keras.models.load_model('dmlp_trained.h5')"
   ]
  },
  {
   "cell_type": "markdown",
   "metadata": {},
   "source": [
    "## 초기화 함수 정의\n",
    "- 우편번호 작성 화면 초기화\n",
    "- 5개의 숫자를 작성할 수 있는 영역 생성, 안내 텍스트 표시"
   ]
  },
  {
   "cell_type": "code",
   "execution_count": 3,
   "metadata": {},
   "outputs": [],
   "source": [
    "def reset():\n",
    "    global img\n",
    "    img = np.ones((200, 520, 3), dtype=np.uint8) * 255\n",
    "    for i in range(5):\n",
    "        cv.rectangle(img, (10 + i * 100, 50), (10 + (i + 1) * 100, 150), (0, 0, 255))\n",
    "    cv.putText(img, 'e:erase s:show r:recognition q:quit', (10, 40), cv.FONT_HERSHEY_SIMPLEX, 0.8, (255, 0, 0), 1)"
   ]
  },
  {
   "cell_type": "markdown",
   "metadata": {},
   "source": [
    "## 숫자 추출 함수 정의\n",
    "- 작성된 숫자를 추출하여 모델이 처리할 수 있는 형태로 변환\n",
    "- 각 숫자는 28x28 크기로 리사이즈, 흑백으로 변환"
   ]
  },
  {
   "cell_type": "code",
   "execution_count": null,
   "metadata": {},
   "outputs": [],
   "source": [
    "def grab_numerals():\n",
    "    numerals = []\n",
    "    for i in range(5):\n",
    "        roi = img[51:149, 11 + i * 100:9 + (i + 1) * 100, 0]  # 그레이스케일\n",
    "        roi = 255 - cv.resize(roi, (28, 28), interpolation=cv.INTER_CUBIC)  \n",
    "        numerals.append(roi)\n",
    "    numerals = np.array(numerals)\n",
    "    return numerals"
   ]
  },
  {
   "cell_type": "markdown",
   "metadata": {},
   "source": [
    "## 숫자 시각화 함수 정의\n",
    "\n",
    "- 추출된 숫자를 화면에 표시\n",
    "- 사용자가 작성한 숫자 확인 가능"
   ]
  },
  {
   "cell_type": "code",
   "execution_count": 5,
   "metadata": {},
   "outputs": [],
   "source": [
    "def show():\n",
    "    numerals = grab_numerals()\n",
    "    plt.figure(figsize=(25, 5))\n",
    "    for i in range(5):\n",
    "        plt.subplot(1, 5, i + 1)\n",
    "        plt.imshow(numerals[i], cmap='gray')\n",
    "        plt.xticks([]); plt.yticks([])\n",
    "    plt.show()"
   ]
  },
  {
   "cell_type": "markdown",
   "metadata": {},
   "source": [
    "## 숫자 인식 함수 정의\n",
    "- 추출된 숫자를 모델에 입력하여 예측\n",
    "- 예측된 숫자는 화면에 표시되고 소리를 재생함"
   ]
  },
  {
   "cell_type": "code",
   "execution_count": null,
   "metadata": {},
   "outputs": [],
   "source": [
    "def recognition():\n",
    "    numerals = grab_numerals()\n",
    "    numerals = numerals.reshape(5, 784)  # 1차원 벡터로 변환\n",
    "    numerals = numerals.astype(np.float32) / 255.0  # 정규화\n",
    "    res = model.predict(numerals)  # 신경망 모델로 예측\n",
    "    class_id = np.argmax(res, axis=1)\n",
    "    for i in range(5):\n",
    "        cv.putText(img, str(class_id[i]), (50 + i * 100, 180), cv.FONT_HERSHEY_SIMPLEX, 1, (255, 0, 0), 1)\n",
    "    # winsound.Beep(1000, 500)"
   ]
  },
  {
   "cell_type": "markdown",
   "metadata": {},
   "source": [
    "## 마우스 이벤트 처리\n",
    "\n",
    "- 왼쪽 버튼을 클릭하거나 드래그하면 숫자를 작성할 수 있음"
   ]
  },
  {
   "cell_type": "code",
   "execution_count": null,
   "metadata": {},
   "outputs": [],
   "source": [
    "BrushSiz = 4\n",
    "LColor = (0, 0, 0)  # 검정색\n",
    "\n",
    "def writing(event, x, y, flags, param):\n",
    "    if event == cv.EVENT_LBUTTONDOWN:\n",
    "        cv.circle(img, (x, y), BrushSiz, LColor, -1)\n",
    "    elif event == cv.EVENT_MOUSEMOVE and flags == cv.EVENT_FLAG_LBUTTON:\n",
    "        cv.circle(img, (x, y), BrushSiz, LColor, -1)"
   ]
  },
  {
   "cell_type": "markdown",
   "metadata": {},
   "source": [
    "## 메인 루프\n",
    "\n",
    "- 사용자는 'e', 's', 'r', 'q' 키를 사용하여 초기화, 시각화, 인식, 종료를 수행함"
   ]
  },
  {
   "cell_type": "code",
   "execution_count": 8,
   "metadata": {},
   "outputs": [
    {
     "name": "stdout",
     "output_type": "stream",
     "text": [
      "\u001b[1m1/1\u001b[0m \u001b[32m━━━━━━━━━━━━━━━━━━━━\u001b[0m\u001b[37m\u001b[0m \u001b[1m0s\u001b[0m 76ms/step\n"
     ]
    }
   ],
   "source": [
    "reset()\n",
    "cv.namedWindow('Writing')\n",
    "cv.setMouseCallback('Writing', writing)\n",
    "\n",
    "while True:\n",
    "    cv.imshow('Writing', img)\n",
    "    key = cv.waitKey(1)\n",
    "    if key == ord('e'):\n",
    "        reset()\n",
    "    elif key == ord('s'):\n",
    "        show()\n",
    "    elif key == ord('r'):\n",
    "        recognition()\n",
    "    elif key == ord('q'):\n",
    "        break\n",
    "\n",
    "cv.destroyAllWindows()"
   ]
  }
 ],
 "metadata": {
  "kernelspec": {
   "display_name": "cv",
   "language": "python",
   "name": "python3"
  },
  "language_info": {
   "codemirror_mode": {
    "name": "ipython",
    "version": 3
   },
   "file_extension": ".py",
   "mimetype": "text/x-python",
   "name": "python",
   "nbconvert_exporter": "python",
   "pygments_lexer": "ipython3",
   "version": "3.12.11"
  }
 },
 "nbformat": 4,
 "nbformat_minor": 2
}
